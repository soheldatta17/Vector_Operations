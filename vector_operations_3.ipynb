{
  "nbformat": 4,
  "nbformat_minor": 0,
  "metadata": {
    "colab": {
      "provenance": [],
      "include_colab_link": true
    },
    "kernelspec": {
      "name": "python3",
      "display_name": "Python 3"
    },
    "language_info": {
      "name": "python"
    }
  },
  "cells": [
    {
      "cell_type": "markdown",
      "metadata": {
        "id": "view-in-github",
        "colab_type": "text"
      },
      "source": [
        "<a href=\"https://colab.research.google.com/github/soheldatta17/Vector_Operations/blob/main/vector_operations_3.ipynb\" target=\"_parent\"><img src=\"https://colab.research.google.com/assets/colab-badge.svg\" alt=\"Open In Colab\"/></a>"
      ]
    },
    {
      "cell_type": "code",
      "metadata": {
        "id": "mxuyQMry3Yym"
      },
      "source": [
        "import numpy as np"
      ],
      "execution_count": 1,
      "outputs": []
    },
    {
      "cell_type": "markdown",
      "metadata": {
        "id": "lfZGftA76XVa"
      },
      "source": [
        "Creating a Matrix using numpy"
      ]
    },
    {
      "cell_type": "code",
      "metadata": {
        "colab": {
          "base_uri": "https://localhost:8080/"
        },
        "id": "cKOVfLda6Ug1",
        "outputId": "c7cf5853-e809-4841-b7f2-7dd39c415e7f"
      },
      "source": [
        "matrix_1 = np.array([[2,3],[6,7]])\n",
        "print(matrix_1)"
      ],
      "execution_count": 2,
      "outputs": [
        {
          "output_type": "stream",
          "name": "stdout",
          "text": [
            "[[2 3]\n",
            " [6 7]]\n"
          ]
        }
      ]
    },
    {
      "cell_type": "code",
      "metadata": {
        "colab": {
          "base_uri": "https://localhost:8080/"
        },
        "id": "BXMdMXra6rYm",
        "outputId": "929d3379-5891-4c33-f515-3932756ec2ac"
      },
      "source": [
        "matrix_1.shape"
      ],
      "execution_count": 3,
      "outputs": [
        {
          "output_type": "execute_result",
          "data": {
            "text/plain": [
              "(2, 2)"
            ]
          },
          "metadata": {},
          "execution_count": 3
        }
      ]
    },
    {
      "cell_type": "code",
      "metadata": {
        "colab": {
          "base_uri": "https://localhost:8080/"
        },
        "id": "_q5Bm8ok65Qr",
        "outputId": "d024df02-6cd2-4f5c-ba94-5630c931f1f2"
      },
      "source": [
        "matrix_2 = np.array([[10,35,45],[50,64,80],[20,15,90]])\n",
        "print(matrix_2)"
      ],
      "execution_count": 4,
      "outputs": [
        {
          "output_type": "stream",
          "name": "stdout",
          "text": [
            "[[10 35 45]\n",
            " [50 64 80]\n",
            " [20 15 90]]\n"
          ]
        }
      ]
    },
    {
      "cell_type": "code",
      "metadata": {
        "colab": {
          "base_uri": "https://localhost:8080/"
        },
        "id": "pYFQaBrn7SxR",
        "outputId": "ea02bf69-ac8c-4b5e-e1ae-45fd7f63d378"
      },
      "source": [
        "matrix_2.shape"
      ],
      "execution_count": 5,
      "outputs": [
        {
          "output_type": "execute_result",
          "data": {
            "text/plain": [
              "(3, 3)"
            ]
          },
          "metadata": {},
          "execution_count": 5
        }
      ]
    },
    {
      "cell_type": "markdown",
      "metadata": {
        "id": "6RRTJPov7cMl"
      },
      "source": [
        "Creating Matrices with Random Values"
      ]
    },
    {
      "cell_type": "code",
      "metadata": {
        "colab": {
          "base_uri": "https://localhost:8080/"
        },
        "id": "c5KzL2877ZLz",
        "outputId": "cc0348f8-43c2-4bc2-f82f-01dad4a3d71d"
      },
      "source": [
        "random_matrix = np.random.rand(3,3)\n",
        "print(random_matrix)"
      ],
      "execution_count": 6,
      "outputs": [
        {
          "output_type": "stream",
          "name": "stdout",
          "text": [
            "[[0.9625527  0.84375863 0.93081774]\n",
            " [0.92590447 0.17126807 0.90223832]\n",
            " [0.84600287 0.18773265 0.40559017]]\n"
          ]
        }
      ]
    },
    {
      "cell_type": "code",
      "metadata": {
        "colab": {
          "base_uri": "https://localhost:8080/"
        },
        "id": "lgzARrC-79g9",
        "outputId": "0932bdb0-8d6d-4d4d-d6ae-2011491f6a3e"
      },
      "source": [
        "# creating matrix with random integers\n",
        "random_integer_matrix = np.random.randint(100, size=(4,5))\n",
        "print(random_integer_matrix)"
      ],
      "execution_count": 8,
      "outputs": [
        {
          "output_type": "stream",
          "name": "stdout",
          "text": [
            "[[80 74 52  1 67]\n",
            " [15 65  2 86 10]\n",
            " [12 80 88 99  3]\n",
            " [13 12 82 71 98]]\n"
          ]
        }
      ]
    },
    {
      "cell_type": "markdown",
      "metadata": {
        "id": "gHbxEcmu8i13"
      },
      "source": [
        "Matrix with all the values as 1"
      ]
    },
    {
      "cell_type": "code",
      "metadata": {
        "colab": {
          "base_uri": "https://localhost:8080/"
        },
        "id": "YZzOVgC98dYb",
        "outputId": "81a930f9-4a1f-493b-f58e-069b4dbaab8b"
      },
      "source": [
        "matrix_3 = np.ones((2,3))\n",
        "print(matrix_3)"
      ],
      "execution_count": 9,
      "outputs": [
        {
          "output_type": "stream",
          "name": "stdout",
          "text": [
            "[[1. 1. 1.]\n",
            " [1. 1. 1.]]\n"
          ]
        }
      ]
    },
    {
      "cell_type": "code",
      "metadata": {
        "colab": {
          "base_uri": "https://localhost:8080/"
        },
        "id": "9PY4MOGm824o",
        "outputId": "0b629f64-9044-42c1-e529-bb96b34fbc54"
      },
      "source": [
        "matrix_3 = np.ones((2,3), dtype=int)\n",
        "print(matrix_3)"
      ],
      "execution_count": 10,
      "outputs": [
        {
          "output_type": "stream",
          "name": "stdout",
          "text": [
            "[[1 1 1]\n",
            " [1 1 1]]\n"
          ]
        }
      ]
    },
    {
      "cell_type": "code",
      "metadata": {
        "colab": {
          "base_uri": "https://localhost:8080/"
        },
        "id": "Ecor73di9AOx",
        "outputId": "193f8577-4371-40fb-cfbd-6da1312f0c86"
      },
      "source": [
        "matrix_3 = np.ones((10,10), dtype=int)\n",
        "print(matrix_3)"
      ],
      "execution_count": 11,
      "outputs": [
        {
          "output_type": "stream",
          "name": "stdout",
          "text": [
            "[[1 1 1 1 1 1 1 1 1 1]\n",
            " [1 1 1 1 1 1 1 1 1 1]\n",
            " [1 1 1 1 1 1 1 1 1 1]\n",
            " [1 1 1 1 1 1 1 1 1 1]\n",
            " [1 1 1 1 1 1 1 1 1 1]\n",
            " [1 1 1 1 1 1 1 1 1 1]\n",
            " [1 1 1 1 1 1 1 1 1 1]\n",
            " [1 1 1 1 1 1 1 1 1 1]\n",
            " [1 1 1 1 1 1 1 1 1 1]\n",
            " [1 1 1 1 1 1 1 1 1 1]]\n"
          ]
        }
      ]
    },
    {
      "cell_type": "markdown",
      "metadata": {
        "id": "sSpEoUsp9H5P"
      },
      "source": [
        "Null Matrix or Zero Matrix"
      ]
    },
    {
      "cell_type": "code",
      "metadata": {
        "colab": {
          "base_uri": "https://localhost:8080/"
        },
        "id": "RqrEf6SW9FXP",
        "outputId": "87aea4da-05c3-43c3-d456-301413eb9158"
      },
      "source": [
        "null_matrix = np.zeros((4,4))\n",
        "print(null_matrix)"
      ],
      "execution_count": 12,
      "outputs": [
        {
          "output_type": "stream",
          "name": "stdout",
          "text": [
            "[[0. 0. 0. 0.]\n",
            " [0. 0. 0. 0.]\n",
            " [0. 0. 0. 0.]\n",
            " [0. 0. 0. 0.]]\n"
          ]
        }
      ]
    },
    {
      "cell_type": "code",
      "metadata": {
        "colab": {
          "base_uri": "https://localhost:8080/"
        },
        "id": "gVNSoF_29R0k",
        "outputId": "66a9cc7e-badc-4bfe-9f93-033d53cd060f"
      },
      "source": [
        "null_matrix = np.zeros((7,7))\n",
        "print(null_matrix)"
      ],
      "execution_count": 13,
      "outputs": [
        {
          "output_type": "stream",
          "name": "stdout",
          "text": [
            "[[0. 0. 0. 0. 0. 0. 0.]\n",
            " [0. 0. 0. 0. 0. 0. 0.]\n",
            " [0. 0. 0. 0. 0. 0. 0.]\n",
            " [0. 0. 0. 0. 0. 0. 0.]\n",
            " [0. 0. 0. 0. 0. 0. 0.]\n",
            " [0. 0. 0. 0. 0. 0. 0.]\n",
            " [0. 0. 0. 0. 0. 0. 0.]]\n"
          ]
        }
      ]
    },
    {
      "cell_type": "markdown",
      "metadata": {
        "id": "W4UHB30d9ZTA"
      },
      "source": [
        "Identity Matrix"
      ]
    },
    {
      "cell_type": "code",
      "metadata": {
        "colab": {
          "base_uri": "https://localhost:8080/"
        },
        "id": "zJ2k1TM29VrD",
        "outputId": "bf5aba96-df94-4c42-aa70-3382a2127a5c"
      },
      "source": [
        "identity_matrix = np.eye(3,3)\n",
        "print(identity_matrix)"
      ],
      "execution_count": 14,
      "outputs": [
        {
          "output_type": "stream",
          "name": "stdout",
          "text": [
            "[[1. 0. 0.]\n",
            " [0. 1. 0.]\n",
            " [0. 0. 1.]]\n"
          ]
        }
      ]
    },
    {
      "cell_type": "code",
      "metadata": {
        "colab": {
          "base_uri": "https://localhost:8080/"
        },
        "id": "NPCs00109l0a",
        "outputId": "e7d913a6-b7bc-4bd0-a65f-81872df66b57"
      },
      "source": [
        "identity_matrix = np.eye(5,5)\n",
        "print(identity_matrix)"
      ],
      "execution_count": 15,
      "outputs": [
        {
          "output_type": "stream",
          "name": "stdout",
          "text": [
            "[[1. 0. 0. 0. 0.]\n",
            " [0. 1. 0. 0. 0.]\n",
            " [0. 0. 1. 0. 0.]\n",
            " [0. 0. 0. 1. 0.]\n",
            " [0. 0. 0. 0. 1.]]\n"
          ]
        }
      ]
    },
    {
      "cell_type": "markdown",
      "metadata": {
        "id": "XwHsT7xI9wJq"
      },
      "source": [
        "Transpose of a Matrix"
      ]
    },
    {
      "cell_type": "code",
      "metadata": {
        "colab": {
          "base_uri": "https://localhost:8080/"
        },
        "id": "Q4IEx9CL9tEi",
        "outputId": "290a9a72-f2ee-44d6-f599-ec66b37d770a"
      },
      "source": [
        "# matrix with random integer values\n",
        "a = np.random.randint(100, size=(4,5))\n",
        "print(a)"
      ],
      "execution_count": 16,
      "outputs": [
        {
          "output_type": "stream",
          "name": "stdout",
          "text": [
            "[[51 25 61 85 20]\n",
            " [62 48 77 80 29]\n",
            " [90 60 31 50 92]\n",
            " [28 68 96  2 25]]\n"
          ]
        }
      ]
    },
    {
      "cell_type": "code",
      "metadata": {
        "colab": {
          "base_uri": "https://localhost:8080/"
        },
        "id": "XusZQzUt-C6H",
        "outputId": "4f75bc79-1bb5-4a1e-e140-558362a358a5"
      },
      "source": [
        "transpose_of_a = np.transpose(a)\n",
        "print(transpose_of_a)"
      ],
      "execution_count": 17,
      "outputs": [
        {
          "output_type": "stream",
          "name": "stdout",
          "text": [
            "[[51 62 90 28]\n",
            " [25 48 60 68]\n",
            " [61 77 31 96]\n",
            " [85 80 50  2]\n",
            " [20 29 92 25]]\n"
          ]
        }
      ]
    },
    {
      "cell_type": "code",
      "metadata": {
        "id": "d_zTKA-o-TLc"
      },
      "source": [],
      "execution_count": null,
      "outputs": []
    }
  ]
}