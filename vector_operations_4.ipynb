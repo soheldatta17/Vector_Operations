{
  "nbformat": 4,
  "nbformat_minor": 0,
  "metadata": {
    "colab": {
      "provenance": [],
      "include_colab_link": true
    },
    "kernelspec": {
      "name": "python3",
      "display_name": "Python 3"
    },
    "language_info": {
      "name": "python"
    }
  },
  "cells": [
    {
      "cell_type": "markdown",
      "metadata": {
        "id": "view-in-github",
        "colab_type": "text"
      },
      "source": [
        "<a href=\"https://colab.research.google.com/github/soheldatta17/Vector_Operations/blob/main/vector_operations_4.ipynb\" target=\"_parent\"><img src=\"https://colab.research.google.com/assets/colab-badge.svg\" alt=\"Open In Colab\"/></a>"
      ]
    },
    {
      "cell_type": "markdown",
      "metadata": {
        "id": "njFGF_Zox0N3"
      },
      "source": [
        "Importing Numpy Library"
      ]
    },
    {
      "cell_type": "code",
      "metadata": {
        "id": "-eszf8anvKIN"
      },
      "source": [
        "import numpy as np"
      ],
      "execution_count": 112,
      "outputs": []
    },
    {
      "cell_type": "markdown",
      "metadata": {
        "id": "LWQoC194yFxQ"
      },
      "source": [
        "**Matrix Addition**"
      ]
    },
    {
      "cell_type": "markdown",
      "metadata": {
        "id": "dEehbUGCyNCw"
      },
      "source": [
        "Two Matrices can be added only if they have the same shape"
      ]
    },
    {
      "cell_type": "code",
      "metadata": {
        "id": "y55LmIvZyDhD"
      },
      "source": [
        "# creating two matrices\n",
        "\n",
        "A = np.array([[2,3],[4,5]])\n",
        "\n",
        "B = np.array([[6,7],[8,9]])"
      ],
      "execution_count": 113,
      "outputs": []
    },
    {
      "cell_type": "code",
      "metadata": {
        "colab": {
          "base_uri": "https://localhost:8080/"
        },
        "id": "ZdAndFBayp6a",
        "outputId": "8e91f7df-2ff5-4e83-f024-2be8d6d65f5d"
      },
      "source": [
        "print(A)"
      ],
      "execution_count": 114,
      "outputs": [
        {
          "output_type": "stream",
          "name": "stdout",
          "text": [
            "[[2 3]\n",
            " [4 5]]\n"
          ]
        }
      ]
    },
    {
      "cell_type": "code",
      "metadata": {
        "colab": {
          "base_uri": "https://localhost:8080/"
        },
        "id": "g1zU4IUKysAN",
        "outputId": "9b498d0c-dd7a-4169-8c65-07c3f6089874"
      },
      "source": [
        "print(B)"
      ],
      "execution_count": 115,
      "outputs": [
        {
          "output_type": "stream",
          "name": "stdout",
          "text": [
            "[[6 7]\n",
            " [8 9]]\n"
          ]
        }
      ]
    },
    {
      "cell_type": "code",
      "metadata": {
        "colab": {
          "base_uri": "https://localhost:8080/"
        },
        "id": "kNMjORlNyvOy",
        "outputId": "b79cdb04-1ddd-4c7c-df69-79da48406819"
      },
      "source": [
        "A.shape"
      ],
      "execution_count": 116,
      "outputs": [
        {
          "output_type": "execute_result",
          "data": {
            "text/plain": [
              "(2, 2)"
            ]
          },
          "metadata": {},
          "execution_count": 116
        }
      ]
    },
    {
      "cell_type": "code",
      "metadata": {
        "colab": {
          "base_uri": "https://localhost:8080/"
        },
        "id": "ThmH0iu6y1T4",
        "outputId": "4b854ded-55e9-4787-ad88-2ef9cb732507"
      },
      "source": [
        "B.shape"
      ],
      "execution_count": 117,
      "outputs": [
        {
          "output_type": "execute_result",
          "data": {
            "text/plain": [
              "(2, 2)"
            ]
          },
          "metadata": {},
          "execution_count": 117
        }
      ]
    },
    {
      "cell_type": "markdown",
      "metadata": {
        "id": "aD3qmdGozEVu"
      },
      "source": [
        "Adding two Matrices"
      ]
    },
    {
      "cell_type": "code",
      "metadata": {
        "id": "2ilMmmuGy8wm"
      },
      "source": [
        "sum = A + B"
      ],
      "execution_count": 118,
      "outputs": []
    },
    {
      "cell_type": "code",
      "metadata": {
        "colab": {
          "base_uri": "https://localhost:8080/"
        },
        "id": "OWD4oZFSzLQN",
        "outputId": "d35a0192-846d-4949-e69f-102e99a3bad7"
      },
      "source": [
        "print(sum)"
      ],
      "execution_count": 119,
      "outputs": [
        {
          "output_type": "stream",
          "name": "stdout",
          "text": [
            "[[ 8 10]\n",
            " [12 14]]\n"
          ]
        }
      ]
    },
    {
      "cell_type": "code",
      "metadata": {
        "id": "8KQHo-XmzMSk"
      },
      "source": [
        "# create two matrices with random values\n",
        "matrix_1 = np.random.randint(10, size=(3,3))\n",
        "matrix_2 = np.random.randint(20, size=(3,3))"
      ],
      "execution_count": 120,
      "outputs": []
    },
    {
      "cell_type": "code",
      "metadata": {
        "colab": {
          "base_uri": "https://localhost:8080/"
        },
        "id": "Rp93iTpSzvTI",
        "outputId": "9f2ceb33-ac84-4236-a6ff-a0a8d1cf4d9c"
      },
      "source": [
        "print(matrix_1)"
      ],
      "execution_count": 121,
      "outputs": [
        {
          "output_type": "stream",
          "name": "stdout",
          "text": [
            "[[2 5 3]\n",
            " [6 2 0]\n",
            " [9 0 0]]\n"
          ]
        }
      ]
    },
    {
      "cell_type": "code",
      "metadata": {
        "colab": {
          "base_uri": "https://localhost:8080/"
        },
        "id": "3mMRWWljzw11",
        "outputId": "2a9d003a-3ddf-475d-fc12-829f6bb0bfda"
      },
      "source": [
        "print(matrix_2)"
      ],
      "execution_count": 122,
      "outputs": [
        {
          "output_type": "stream",
          "name": "stdout",
          "text": [
            "[[ 5  3  3]\n",
            " [19  0 10]\n",
            " [ 7  3  2]]\n"
          ]
        }
      ]
    },
    {
      "cell_type": "code",
      "metadata": {
        "id": "r44p4H4pzyc-"
      },
      "source": [
        "sum = np.add(matrix_1, matrix_2)"
      ],
      "execution_count": 123,
      "outputs": []
    },
    {
      "cell_type": "code",
      "metadata": {
        "colab": {
          "base_uri": "https://localhost:8080/"
        },
        "id": "5KpDNB6Uz_8R",
        "outputId": "24a717ca-a9eb-402c-8baa-984039e12851"
      },
      "source": [
        "print(sum)"
      ],
      "execution_count": 124,
      "outputs": [
        {
          "output_type": "stream",
          "name": "stdout",
          "text": [
            "[[ 7  8  6]\n",
            " [25  2 10]\n",
            " [16  3  2]]\n"
          ]
        }
      ]
    },
    {
      "cell_type": "code",
      "metadata": {
        "id": "4k-9zYHA0BHP"
      },
      "source": [
        "# create two matrices with random values\n",
        "matrix_3 = np.random.randint(10, size=(3,3))\n",
        "matrix_4 = np.random.randint(20, size=(3,4))"
      ],
      "execution_count": 125,
      "outputs": []
    },
    {
      "cell_type": "markdown",
      "metadata": {
        "id": "Xq83epgz0kJQ"
      },
      "source": [
        "**Matrix Subtraction**"
      ]
    },
    {
      "cell_type": "code",
      "metadata": {
        "id": "Pn1QFYqR0SQZ"
      },
      "source": [
        "# creating two matrices\n",
        "\n",
        "A = np.array([[2,3],[4,5]])\n",
        "\n",
        "B = np.array([[6,7],[8,9]])"
      ],
      "execution_count": 126,
      "outputs": []
    },
    {
      "cell_type": "code",
      "metadata": {
        "colab": {
          "base_uri": "https://localhost:8080/"
        },
        "id": "7Qmyr-Q40y4b",
        "outputId": "839b9a95-e549-44d8-d4fb-092abd9bf5dc"
      },
      "source": [
        "print(A)"
      ],
      "execution_count": 127,
      "outputs": [
        {
          "output_type": "stream",
          "name": "stdout",
          "text": [
            "[[2 3]\n",
            " [4 5]]\n"
          ]
        }
      ]
    },
    {
      "cell_type": "code",
      "metadata": {
        "colab": {
          "base_uri": "https://localhost:8080/"
        },
        "id": "jBuK9rvI00gJ",
        "outputId": "1179f0fe-d344-44ba-8d29-b939b833e3f3"
      },
      "source": [
        "print(B)"
      ],
      "execution_count": 128,
      "outputs": [
        {
          "output_type": "stream",
          "name": "stdout",
          "text": [
            "[[6 7]\n",
            " [8 9]]\n"
          ]
        }
      ]
    },
    {
      "cell_type": "code",
      "metadata": {
        "id": "7okhnLzd0qgL"
      },
      "source": [
        "difference = A - B"
      ],
      "execution_count": 129,
      "outputs": []
    },
    {
      "cell_type": "code",
      "metadata": {
        "colab": {
          "base_uri": "https://localhost:8080/"
        },
        "id": "Ywz16T2O0wzU",
        "outputId": "1396ddc5-4852-436b-f2b0-b2ee11722fb3"
      },
      "source": [
        "print(difference)"
      ],
      "execution_count": 130,
      "outputs": [
        {
          "output_type": "stream",
          "name": "stdout",
          "text": [
            "[[-4 -4]\n",
            " [-4 -4]]\n"
          ]
        }
      ]
    },
    {
      "cell_type": "code",
      "metadata": {
        "id": "Br7jm7EE04cr"
      },
      "source": [
        "# create two matrices with random values\n",
        "matrix_1 = np.random.randint(10, size=(3,3))\n",
        "matrix_2 = np.random.randint(20, size=(3,3))"
      ],
      "execution_count": 131,
      "outputs": []
    },
    {
      "cell_type": "code",
      "metadata": {
        "colab": {
          "base_uri": "https://localhost:8080/"
        },
        "id": "FdVPoelG1D_E",
        "outputId": "9b323488-ad2c-43c3-842b-2b88fc979159"
      },
      "source": [
        "print(matrix_1)"
      ],
      "execution_count": 132,
      "outputs": [
        {
          "output_type": "stream",
          "name": "stdout",
          "text": [
            "[[7 0 3]\n",
            " [3 1 8]\n",
            " [4 0 6]]\n"
          ]
        }
      ]
    },
    {
      "cell_type": "code",
      "metadata": {
        "colab": {
          "base_uri": "https://localhost:8080/"
        },
        "id": "Fx0sECVs1FkR",
        "outputId": "c96bd80f-2661-42c9-ff3f-4678026b22ad"
      },
      "source": [
        "print(matrix_2)"
      ],
      "execution_count": 133,
      "outputs": [
        {
          "output_type": "stream",
          "name": "stdout",
          "text": [
            "[[ 8 13 19]\n",
            " [18  2  0]\n",
            " [ 6  3 13]]\n"
          ]
        }
      ]
    },
    {
      "cell_type": "code",
      "metadata": {
        "id": "0_T_doPW1G6t"
      },
      "source": [
        "diff = np.subtract(matrix_1, matrix_2)"
      ],
      "execution_count": 134,
      "outputs": []
    },
    {
      "cell_type": "code",
      "metadata": {
        "colab": {
          "base_uri": "https://localhost:8080/"
        },
        "id": "6nfnmISG1RFE",
        "outputId": "80e677df-e624-4271-9a36-e1e95e122b37"
      },
      "source": [
        "print(diff)"
      ],
      "execution_count": 135,
      "outputs": [
        {
          "output_type": "stream",
          "name": "stdout",
          "text": [
            "[[ -1 -13 -16]\n",
            " [-15  -1   8]\n",
            " [ -2  -3  -7]]\n"
          ]
        }
      ]
    },
    {
      "cell_type": "markdown",
      "metadata": {
        "id": "FARh8k7E1eqi"
      },
      "source": [
        "**Multiplying a matrix by a scalar**"
      ]
    },
    {
      "cell_type": "code",
      "metadata": {
        "colab": {
          "base_uri": "https://localhost:8080/"
        },
        "id": "GnCbHbMw1SIh",
        "outputId": "d6413db4-bc7e-4a75-b61b-682ae9257271"
      },
      "source": [
        "x = 5\n",
        "y = np.random.randint(10, size=(4,4))\n",
        "\n",
        "print(y)"
      ],
      "execution_count": 136,
      "outputs": [
        {
          "output_type": "stream",
          "name": "stdout",
          "text": [
            "[[7 2 0 8]\n",
            " [7 0 1 7]\n",
            " [3 3 4 7]\n",
            " [6 2 8 5]]\n"
          ]
        }
      ]
    },
    {
      "cell_type": "code",
      "metadata": {
        "id": "CzJLkFEC1z_-"
      },
      "source": [
        "product = np.multiply(x,y)"
      ],
      "execution_count": 137,
      "outputs": []
    },
    {
      "cell_type": "code",
      "metadata": {
        "colab": {
          "base_uri": "https://localhost:8080/"
        },
        "id": "M2_Vks8-159S",
        "outputId": "e5f9098f-c577-4db7-d807-a3b8280d2aaa"
      },
      "source": [
        "print(product)"
      ],
      "execution_count": 138,
      "outputs": [
        {
          "output_type": "stream",
          "name": "stdout",
          "text": [
            "[[35 10  0 40]\n",
            " [35  0  5 35]\n",
            " [15 15 20 35]\n",
            " [30 10 40 25]]\n"
          ]
        }
      ]
    },
    {
      "cell_type": "markdown",
      "metadata": {
        "id": "R57N3wn12FVL"
      },
      "source": [
        "**Multiplying 2 Matrices**"
      ]
    },
    {
      "cell_type": "code",
      "metadata": {
        "id": "rXTVv3Z7177t"
      },
      "source": [
        "# create two matrices with random values\n",
        "matrix_3 = np.random.randint(5, size=(3,3))\n",
        "matrix_4 = np.random.randint(5, size=(3,4))"
      ],
      "execution_count": 139,
      "outputs": []
    },
    {
      "cell_type": "code",
      "metadata": {
        "colab": {
          "base_uri": "https://localhost:8080/"
        },
        "id": "ROz3EoRS2yuU",
        "outputId": "1d2ded64-40ae-40bf-e6f8-88dd18aa2a95"
      },
      "source": [
        "print(matrix_3)"
      ],
      "execution_count": 140,
      "outputs": [
        {
          "output_type": "stream",
          "name": "stdout",
          "text": [
            "[[0 4 1]\n",
            " [4 1 4]\n",
            " [3 0 3]]\n"
          ]
        }
      ]
    },
    {
      "cell_type": "code",
      "metadata": {
        "colab": {
          "base_uri": "https://localhost:8080/"
        },
        "id": "zoG3ukbQ20Oe",
        "outputId": "397e3277-84cf-4b81-a0f8-00fa37aeb726"
      },
      "source": [
        "print(matrix_4)"
      ],
      "execution_count": 141,
      "outputs": [
        {
          "output_type": "stream",
          "name": "stdout",
          "text": [
            "[[0 4 1 2]\n",
            " [2 1 0 3]\n",
            " [2 3 3 0]]\n"
          ]
        }
      ]
    },
    {
      "cell_type": "code",
      "metadata": {
        "id": "w_6yLuPU22wI"
      },
      "source": [
        "product = np.dot(matrix_3, matrix_4)"
      ],
      "execution_count": 142,
      "outputs": []
    },
    {
      "cell_type": "code",
      "metadata": {
        "colab": {
          "base_uri": "https://localhost:8080/"
        },
        "id": "pC-BqcFf2_La",
        "outputId": "1c3018ab-8b5d-4cce-8d68-0642543bd3c2"
      },
      "source": [
        "print(product)"
      ],
      "execution_count": 143,
      "outputs": [
        {
          "output_type": "stream",
          "name": "stdout",
          "text": [
            "[[10  7  3 12]\n",
            " [10 29 16 11]\n",
            " [ 6 21 12  6]]\n"
          ]
        }
      ]
    },
    {
      "cell_type": "code",
      "metadata": {
        "colab": {
          "base_uri": "https://localhost:8080/"
        },
        "id": "KPI6v1ON3Azk",
        "outputId": "f5e2cbe8-724a-415a-82cc-32e745313730"
      },
      "source": [
        "product.shape"
      ],
      "execution_count": 144,
      "outputs": [
        {
          "output_type": "execute_result",
          "data": {
            "text/plain": [
              "(3, 4)"
            ]
          },
          "metadata": {},
          "execution_count": 144
        }
      ]
    },
    {
      "cell_type": "code",
      "metadata": {
        "id": "O733iJUD3DVt"
      },
      "source": [
        "# create two matrices with random values\n",
        "matrix_3 = np.random.randint(5, size=(3,3))\n",
        "matrix_4 = np.random.randint(5, size=(4,4))"
      ],
      "execution_count": 145,
      "outputs": []
    },
    {
      "cell_type": "code",
      "metadata": {
        "id": "3RnqdHlG3gwd"
      },
      "source": [
        "# create two matrices with random values\n",
        "matrix_3 = np.random.randint(5, size=(3,3))\n",
        "matrix_4 = np.random.randint(5, size=(3,3))"
      ],
      "execution_count": 146,
      "outputs": []
    },
    {
      "cell_type": "code",
      "metadata": {
        "colab": {
          "base_uri": "https://localhost:8080/"
        },
        "id": "-YPbdmpH3xiS",
        "outputId": "aa90b6c1-4318-4115-e459-20bdbf483cd4"
      },
      "source": [
        "print(matrix_3)"
      ],
      "execution_count": 147,
      "outputs": [
        {
          "output_type": "stream",
          "name": "stdout",
          "text": [
            "[[2 3 1]\n",
            " [3 1 0]\n",
            " [4 1 0]]\n"
          ]
        }
      ]
    },
    {
      "cell_type": "code",
      "metadata": {
        "colab": {
          "base_uri": "https://localhost:8080/"
        },
        "id": "bL1pQHfP4A5-",
        "outputId": "374bbf1e-b424-4215-bb29-2b6cb23ca203"
      },
      "source": [
        "print(matrix_4)"
      ],
      "execution_count": 148,
      "outputs": [
        {
          "output_type": "stream",
          "name": "stdout",
          "text": [
            "[[1 0 4]\n",
            " [1 0 4]\n",
            " [0 3 2]]\n"
          ]
        }
      ]
    },
    {
      "cell_type": "code",
      "metadata": {
        "id": "qR-6E_qu4DQs"
      },
      "source": [
        "product = np.multiply(matrix_3, matrix_4)"
      ],
      "execution_count": 149,
      "outputs": []
    },
    {
      "cell_type": "code",
      "metadata": {
        "colab": {
          "base_uri": "https://localhost:8080/"
        },
        "id": "Pl5mxpR_4Iv-",
        "outputId": "86d544b9-bb8f-4baa-b526-70d1bfce3960"
      },
      "source": [
        "print(product)"
      ],
      "execution_count": 150,
      "outputs": [
        {
          "output_type": "stream",
          "name": "stdout",
          "text": [
            "[[2 0 4]\n",
            " [3 0 0]\n",
            " [0 3 0]]\n"
          ]
        }
      ]
    },
    {
      "cell_type": "code",
      "metadata": {
        "id": "7nlCi7Pz4KGK"
      },
      "source": [
        "# create two matrices with random values\n",
        "matrix_3 = np.random.randint(5, size=(3,3))\n",
        "matrix_4 = np.random.randint(5, size=(3,4))"
      ],
      "execution_count": 151,
      "outputs": []
    }
  ]
}